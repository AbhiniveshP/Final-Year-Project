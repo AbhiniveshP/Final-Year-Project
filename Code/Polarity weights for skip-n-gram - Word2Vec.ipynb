{
 "cells": [
  {
   "cell_type": "code",
   "execution_count": 21,
   "metadata": {
    "collapsed": true
   },
   "outputs": [],
   "source": [
    "wordvecList = []\n",
    "count=0\n",
    "with open(\"resources/wordvec_pre.txt\", encoding=\"utf8\") as fid:\n",
    "    for line in fid:\n",
    "        wordvecList.append(line)\n",
    "        \n",
    "del wordvecList[0]"
   ]
  },
  {
   "cell_type": "code",
   "execution_count": 22,
   "metadata": {
    "collapsed": true
   },
   "outputs": [],
   "source": [
    "import numpy as np\n",
    "word_array=np.zeros([53263,100])\n",
    "wordList=[]\n",
    "wordList_temp=[]\n",
    "count=0\n",
    "count_col=0\n",
    "for wordListEle in wordvecList: \n",
    "    wordList_temp=wordListEle.split(' ')\n",
    "    wordList.append(wordList_temp[0])\n",
    "    count_col=0\n",
    "    #print(wordList_temp)\n",
    "    for vecs in wordList_temp:\n",
    "        if(count_col!=0):\n",
    "            word_array[count,(count_col-1)]=float(vecs)\n",
    "        if(count_col==100):\n",
    "            vecs=vecs[0:len(vecs)-1]\n",
    "            word_array[count,(count_col-1)]=float(vecs)\n",
    "        count_col=count_col+1\n",
    "    count+=1\n",
    "    #print(word_array[count-1])"
   ]
  },
  {
   "cell_type": "code",
   "execution_count": 23,
   "metadata": {
    "collapsed": true
   },
   "outputs": [],
   "source": [
    "wordListGiven = []\n",
    "with open(\"resources/imdb.vocab\", encoding=\"utf8\") as fid:\n",
    "    for line in fid:\n",
    "        wordListGiven.append(line)\n",
    "wordListGiven = [element[0 : len(element) - 1] if '\\n' in element else element for element in wordListGiven]"
   ]
  },
  {
   "cell_type": "code",
   "execution_count": 24,
   "metadata": {
    "collapsed": true
   },
   "outputs": [],
   "source": [
    "with open(\"resources/imdbEr.txt\", encoding=\"utf8\") as f:\n",
    "    weights = f.read().splitlines()\n",
    "weights = list(map(float, weights))"
   ]
  },
  {
   "cell_type": "code",
   "execution_count": 25,
   "metadata": {},
   "outputs": [],
   "source": [
    "weights_array=np.asarray(weights)\n",
    "\n",
    "weights_mod_array=np.asarray(weights)\n",
    "rowcnt=0\n",
    "for row in weights_mod_array:\n",
    "    if(weights_mod_array[rowcnt]<0):\n",
    "        weights_mod_array[rowcnt] *=-1\n",
    "    rowcnt+=1"
   ]
  },
  {
   "cell_type": "code",
   "execution_count": 26,
   "metadata": {
    "collapsed": true
   },
   "outputs": [],
   "source": [
    "word_array_weights = np.zeros([53263, 100])\n",
    "cnt = 0\n",
    "for word in wordList:\n",
    "    if word in wordListGiven:\n",
    "        index = wordListGiven.index(word)\n",
    "        polarity = weights[index]\n",
    "        word_array_weights[cnt] = word_array[cnt] * polarity \n",
    "    else:\n",
    "        word_array_weights[cnt] = word_array[cnt]\n",
    "    cnt += 1"
   ]
  },
  {
   "cell_type": "code",
   "execution_count": 27,
   "metadata": {
    "collapsed": true
   },
   "outputs": [],
   "source": [
    "word_array_weights.tolist\n",
    "strings = []\n",
    "cnt = 0\n",
    "for each in word_array_weights:\n",
    "    string = ''\n",
    "    for number in each:\n",
    "        string += (str(number) + ' ')\n",
    "    strings.append(wordList[cnt]  + ' ' + string)\n",
    "    cnt += 1"
   ]
  },
  {
   "cell_type": "code",
   "execution_count": 28,
   "metadata": {},
   "outputs": [
    {
     "data": {
      "text/plain": [
       "'the 0.0426451417233 0.00302355295013 -0.00503324869259 0.0815061657505 -0.0320640074736 -0.0548144231447 -0.0416168008412 0.0792448959483 -0.060029036899 -0.0404532462666 0.0687524312443 0.115018491566 -0.151004039803 0.18226555352 -0.0406308308439 0.133232620417 -0.0507387171698 -0.0286206243549 0.0941968103529 -0.0151029373959 -0.0319352255145 -0.023204712075 0.111193574096 0.0523917217445 0.0719104614289 -0.112409908162 -0.0742114999641 0.0479419441927 -0.00983230373479 -0.00534805994759 -0.116611744847 -0.019117026383 0.070089888106 -0.00487643223151 -0.182379655416 0.012044083558 -0.00922163274452 0.0717351844201 0.0395329192275 -0.103744988584 -0.144874941576 -0.0460705061692 0.153134760146 -0.123767907428 0.0256462668005 0.0753210967144 -0.0201410958086 0.104949490224 -0.0458366561992 -0.0196234640149 -0.0516177043654 0.0844452224171 -0.108272339713 0.116043739325 0.00486965681773 0.155117059651 -0.0133415752978 -0.0354456754104 0.111187338751 0.0813329999213 -0.0211884373076 -0.090742674947 0.0104326643128 0.00620024007125 -0.0698562345249 0.0505634892582 -0.0471384684927 -0.0975758270407 -0.0138489948736 -0.122264649318 -0.0087592353023 0.0700493829149 0.0241578851418 0.0424206693188 0.0190876171594 -0.0568437577677 -0.0103089884626 -0.0001941794313 -0.0307871856556 -0.0756322256793 -0.055692379299 -0.0324663590386 -0.0526062274172 -0.0189475919412 0.00984065025902 0.00259326507759 0.118056429997 -0.0767888575485 -0.0111147226338 -0.0350611461295 0.0217774564321 -0.0748696479481 -0.0937877815685 0.0653667864343 0.0535895461656 -0.0350685107097 0.0700384833362 -0.0394997786166 0.00497079705249 0.00381033560161'"
      ]
     },
     "execution_count": 28,
     "metadata": {},
     "output_type": "execute_result"
    }
   ],
   "source": [
    "main_string = []\n",
    "for string in strings:\n",
    "    main_string.append(string[ : len(string) - 1])\n",
    "main_string[0]"
   ]
  },
  {
   "cell_type": "code",
   "execution_count": 30,
   "metadata": {
    "collapsed": true
   },
   "outputs": [],
   "source": [
    "target = open(\"resources/imdb_readable_cbow_polarity.txt\", 'w', encoding=\"utf8\")\n",
    "target.write('53263 100\\n')\n",
    "for data in main_string:\n",
    "    target.write(data + '\\n')"
   ]
  },
  {
   "cell_type": "code",
   "execution_count": null,
   "metadata": {
    "collapsed": true
   },
   "outputs": [],
   "source": []
  }
 ],
 "metadata": {
  "kernelspec": {
   "display_name": "Python 3",
   "language": "python",
   "name": "python3"
  },
  "language_info": {
   "codemirror_mode": {
    "name": "ipython",
    "version": 3
   },
   "file_extension": ".py",
   "mimetype": "text/x-python",
   "name": "python",
   "nbconvert_exporter": "python",
   "pygments_lexer": "ipython3",
   "version": "3.5.4"
  }
 },
 "nbformat": 4,
 "nbformat_minor": 2
}
