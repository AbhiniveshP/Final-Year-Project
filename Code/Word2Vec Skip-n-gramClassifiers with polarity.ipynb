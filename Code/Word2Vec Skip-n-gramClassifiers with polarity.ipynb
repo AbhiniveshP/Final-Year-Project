{
 "cells": [
  {
   "cell_type": "code",
   "execution_count": 49,
   "metadata": {},
   "outputs": [
    {
     "name": "stderr",
     "output_type": "stream",
     "text": [
      "2017-04-14 23:57:12,382 : INFO : loading projection weights from C:/Users/Yash/Documents/Project_4/Important-Results/w2v_cbow_pol.txt\n",
      "2017-04-14 23:57:22,134 : INFO : loaded (53263, 100) matrix from C:/Users/Yash/Documents/Project_4/Important-Results/w2v_cbow_pol.txt\n"
     ]
    }
   ],
   "source": [
    "import gensim\n",
    "model = gensim.models.KeyedVectors.load_word2vec_format('resources/w2v_cbow_pol.txt', binary=False)\n",
    "#word2vec.Word2Vec.load_word2vec_format('C:/Users/Yash/Documents/Project_4/imdb_raedable_txt.txt', binary=False)"
   ]
  },
  {
   "cell_type": "code",
   "execution_count": 50,
   "metadata": {},
   "outputs": [
    {
     "name": "stderr",
     "output_type": "stream",
     "text": [
      "2017-04-14 23:57:24,128 : INFO : precomputing L2-norms of word weight vectors\n",
      "C:\\Users\\Yash\\Anaconda3\\lib\\site-packages\\gensim-1.0.1-py3.6-win-amd64.egg\\gensim\\models\\keyedvectors.py:811: RuntimeWarning: invalid value encountered in true_divide\n",
      "  self.syn0norm = (self.syn0 / sqrt((self.syn0 ** 2).sum(-1))[..., newaxis]).astype(REAL)\n"
     ]
    },
    {
     "data": {
      "text/plain": [
       "[('queen', 0.7025293707847595),\n",
       " ('princess', 0.6463297605514526),\n",
       " ('romeo', 0.618216872215271),\n",
       " ('prince', 0.5961807370185852),\n",
       " ('juliet', 0.5696070790290833),\n",
       " ('belle', 0.5592296719551086),\n",
       " ('bride', 0.5586422681808472),\n",
       " ('elizabeth', 0.5561521053314209),\n",
       " ('lansbury', 0.5370970964431763),\n",
       " ('countess', 0.5186359286308289)]"
      ]
     },
     "execution_count": 50,
     "metadata": {},
     "output_type": "execute_result"
    }
   ],
   "source": [
    "model.most_similar(positive=['woman', 'king'], negative=['man'])"
   ]
  },
  {
   "cell_type": "code",
   "execution_count": 51,
   "metadata": {
    "collapsed": true
   },
   "outputs": [],
   "source": [
    "training_list = []\n",
    "testing_list = []\n",
    "\n",
    "with open(\"resources/train-pos.txt\",encoding='utf-8') as fid:\n",
    "    for line in fid:\n",
    "        training_list.append(line)\n",
    "        \n",
    "with open(\"resources/train-neg.txt\",encoding='utf-8') as fid:\n",
    "    for line in fid:\n",
    "        training_list.append(line)\n",
    "        \n",
    "with open(\"resources/test-pos.txt\",encoding='utf-8') as fid:\n",
    "    for line in fid:\n",
    "        training_list.append(line)\n",
    "\n",
    "with open(\"resources/test-neg.txt\",encoding='utf-8') as fid:\n",
    "    for line in fid:\n",
    "        training_list.append(line) \n",
    "        \n",
    "with open(\"resources/polarity_test_pos_list_file.txt\",encoding='utf-8') as fid:\n",
    "    for line in fid:\n",
    "        testing_list.append(line) \n",
    "        \n",
    "with open(\"resources/polarity_test_neg_list_file.txt\",encoding='utf-8') as fid:\n",
    "    for line in fid:\n",
    "        testing_list.append(line) "
   ]
  },
  {
   "cell_type": "code",
   "execution_count": 52,
   "metadata": {
    "collapsed": true
   },
   "outputs": [],
   "source": [
    "import numpy as np\n",
    "\n",
    "class MeanEmbeddingVectorizer(object):\n",
    "    def __init__(self, word2vec):\n",
    "        self.wv = word2vec\n",
    "        # if a text is empty we should return a vector of zeros\n",
    "        # with the same dimensionality as all the other vectors\n",
    "        #self.dim = len(word2vec.itervalues().next())\n",
    "\n",
    "    def fit(self, X, y):\n",
    "        return self\n",
    "\n",
    "    def transform(self, X):\n",
    "        return np.array([\n",
    "            np.mean([self.wv[w] for w in words if w in self.wv]\n",
    "                    or [np.zeros(100)], axis=0)\n",
    "            for words in X\n",
    "        ])"
   ]
  },
  {
   "cell_type": "code",
   "execution_count": 53,
   "metadata": {},
   "outputs": [
    {
     "name": "stdout",
     "output_type": "stream",
     "text": [
      "(50000, 100)\n",
      "[[  7.46030286e-02  -3.97763997e-02  -4.23831083e-02 ...,  -2.38835569e-02\n",
      "   -2.91370153e-02   2.19615195e-02]\n",
      " [  2.42495034e-02  -3.91210504e-02  -1.87113117e-02 ...,   6.16062284e-02\n",
      "    4.83678766e-02  -7.54736364e-02]\n",
      " [ -3.15759592e-02  -7.35093504e-02  -4.27975208e-02 ...,   1.74960196e-01\n",
      "   -3.41241919e-02   5.13014384e-02]\n",
      " ..., \n",
      " [  2.03542747e-02  -2.78839725e-03   1.66653134e-02 ...,   1.02000825e-01\n",
      "   -5.34419119e-02   8.89185071e-02]\n",
      " [  4.85487580e-02  -2.87837330e-02   3.92498868e-03 ...,   1.00589901e-01\n",
      "    2.90774088e-02   8.73898715e-02]\n",
      " [  3.35179968e-03   8.74814723e-05  -1.21926785e-01 ...,   1.33004561e-01\n",
      "    4.62306216e-02   5.35598658e-02]]\n"
     ]
    }
   ],
   "source": [
    "# import modules & set up logging\n",
    "import gensim, logging\n",
    "logging.basicConfig(format='%(asctime)s : %(levelname)s : %(message)s', level=logging.INFO)\n",
    "\n",
    "sentences = []\n",
    "count = 0\n",
    "\n",
    "for document in training_list + testing_list:\n",
    "    sentences.append(document.split())\n",
    "    \n",
    "\n",
    "\n",
    "w2v = MeanEmbeddingVectorizer(model)\n",
    "y_train = []\n",
    "y_test = []\n",
    "X_train = sentences[ : 50000]\n",
    "X_test = sentences[50000:52000]\n",
    "\n",
    "for i in range(12500):\n",
    "    y_train.append('positive')\n",
    "\n",
    "for i in range(12500):\n",
    "    y_train.append('negative')\n",
    "    \n",
    "for i in range(12500):\n",
    "    y_train.append('positive')\n",
    "    \n",
    "for i in range(12500):\n",
    "    y_train.append('negative')\n",
    "    \n",
    "for i in range(1000):\n",
    "    y_test.append('positive')\n",
    "    \n",
    "for i in range(1000):\n",
    "    y_test.append('negative')\n",
    "    \n",
    "X_train = w2v.transform(X_train)\n",
    "X_test=w2v.transform(X_test)\n",
    "print(X_train.shape)\n",
    "print(X_train)"
   ]
  },
  {
   "cell_type": "code",
   "execution_count": 56,
   "metadata": {},
   "outputs": [
    {
     "name": "stdout",
     "output_type": "stream",
     "text": [
      "Logistic Regression Classifier Training starts ...\n",
      "Logistic Regression Classifier Training is done and transorming testing data using trained tf-idf ...\n",
      "Testing Data Prediction Done!!!\n",
      "['positive' 'positive' 'positive' ..., 'negative' 'negative' 'negative']\n",
      "0.8725\n"
     ]
    }
   ],
   "source": [
    "from sklearn.metrics import accuracy_score\n",
    "from sklearn.linear_model import LogisticRegression\n",
    "\n",
    "\n",
    "model_LR1 = LogisticRegression()\n",
    "print('Logistic Regression Classifier Training starts ...')\n",
    "model_LR1 = model_LR1.fit(X_train, y_train)\n",
    "print('Logistic Regression Classifier Training is done and transorming testing data using trained tf-idf ...')\n",
    "\n",
    "\n",
    "\n",
    "y_pred1 = model_LR1.predict(X_test)\n",
    "\n",
    "print('Testing Data Prediction Done!!!')\n",
    "\n",
    "print(y_pred1)\n",
    "\n",
    "print(accuracy_score(y_test, y_pred1))"
   ]
  },
  {
   "cell_type": "code",
   "execution_count": 77,
   "metadata": {},
   "outputs": [
    {
     "name": "stdout",
     "output_type": "stream",
     "text": [
      "Support Vector Machine Classifier Training starts ...\n",
      "Support Vector Machine Classifier Training is done and transorming testing data using trained tf-idf ...\n",
      "Testing Data Prediction Done!!!\n",
      "(2000,)\n",
      "['positive' 'positive' 'positive' ..., 'negative' 'negative' 'negative']\n",
      "0.8765\n"
     ]
    }
   ],
   "source": [
    "from sklearn.metrics import accuracy_score\n",
    "from sklearn.svm import LinearSVC\n",
    "\n",
    "model_lSVC = LinearSVC()\n",
    "print('Support Vector Machine Classifier Training starts ...')\n",
    "model_lSVC.fit(X_train, y_train)  \n",
    "print('Support Vector Machine Classifier Training is done and transorming testing data using trained tf-idf ...')\n",
    "\n",
    "\n",
    "y_pred = model_lSVC.predict(X_test)\n",
    "print('Testing Data Prediction Done!!!')\n",
    "print(y_pred.shape)\n",
    "print(y_pred)\n",
    "print(accuracy_score(y_test, y_pred))"
   ]
  },
  {
   "cell_type": "code",
   "execution_count": 76,
   "metadata": {},
   "outputs": [
    {
     "name": "stdout",
     "output_type": "stream",
     "text": [
      "Stochastic Gradient Descent Classifier Training starts ...\n",
      "Stochastic Gradient Descent Classifier Training is done and transorming testing data using trained tf-idf ...\n",
      "Testing Data Prediction Done!!!\n",
      "(2000,)\n",
      "['positive' 'positive' 'positive' ..., 'negative' 'negative' 'negative']\n",
      "0.8665\n"
     ]
    }
   ],
   "source": [
    "from sklearn.linear_model import SGDClassifier\n",
    "\n",
    "model_SGD = SGDClassifier()\n",
    "print('Stochastic Gradient Descent Classifier Training starts ...')\n",
    "model_SGD.fit(X_train, y_train)\n",
    "print('Stochastic Gradient Descent Classifier Training is done and transorming testing data using trained tf-idf ...')\n",
    "\n",
    "\n",
    "y_pred = model_SGD.predict(X_test)\n",
    "print('Testing Data Prediction Done!!!')\n",
    "print(y_pred.shape)\n",
    "print(y_pred)\n",
    "print(accuracy_score(y_test, y_pred))"
   ]
  },
  {
   "cell_type": "code",
   "execution_count": 71,
   "metadata": {},
   "outputs": [
    {
     "name": "stdout",
     "output_type": "stream",
     "text": [
      "Decision Tree Classifier using gini index Training starts ...\n",
      "Decision Tree Classifier Training is done and transorming testing data using trained tf-idf ...\n",
      "Testing Data Prediction Done!!!\n",
      "(2000,)\n",
      "['positive' 'positive' 'positive' ..., 'negative' 'positive' 'positive']\n",
      "0.788\n"
     ]
    }
   ],
   "source": [
    "from sklearn import tree\n",
    "\n",
    "model_DT = tree.DecisionTreeClassifier(criterion='gini')\n",
    "print('Decision Tree Classifier using gini index Training starts ...')\n",
    "model_DT = model_DT.fit(X_train, y_train)\n",
    "print('Decision Tree Classifier Training is done and transorming testing data using trained tf-idf ...')\n",
    "\n",
    "\n",
    "y_pred = model_DT.predict(X_test)\n",
    "print('Testing Data Prediction Done!!!')\n",
    "print(y_pred.shape)\n",
    "print(y_pred)\n",
    "print(accuracy_score(y_test, y_pred))"
   ]
  },
  {
   "cell_type": "code",
   "execution_count": 63,
   "metadata": {},
   "outputs": [
    {
     "name": "stdout",
     "output_type": "stream",
     "text": [
      "Gradient Boosting Classifier using 10 n_estimatores Training starts ...\n",
      "Gradient Boosting Classifier Training is done and transorming testing data using trained tf-idf ...\n",
      "Testing Data Prediction Done!!!\n",
      "(2000,)\n",
      "['positive' 'positive' 'positive' ..., 'positive' 'negative' 'negative']\n",
      "0.8505\n"
     ]
    }
   ],
   "source": [
    "from sklearn.ensemble import GradientBoostingClassifier\n",
    "\n",
    "model_GBC = GradientBoostingClassifier(n_estimators=100, learning_rate=1.0, max_depth=1, random_state=0)\n",
    "print('Gradient Boosting Classifier using 10 n_estimatores Training starts ...')\n",
    "model_GBC = model_GBC.fit(X_train, y_train)\n",
    "print('Gradient Boosting Classifier Training is done and transorming testing data using trained tf-idf ...')\n",
    "\n",
    "\n",
    "y_pred = model_GBC.predict(X_test)\n",
    "print('Testing Data Prediction Done!!!')\n",
    "print(y_pred.shape)\n",
    "print(y_pred)\n",
    "\n",
    "print(accuracy_score(y_test, y_pred))"
   ]
  },
  {
   "cell_type": "code",
   "execution_count": null,
   "metadata": {
    "collapsed": true
   },
   "outputs": [],
   "source": []
  }
 ],
 "metadata": {
  "kernelspec": {
   "display_name": "Python 3",
   "language": "python",
   "name": "python3"
  },
  "language_info": {
   "codemirror_mode": {
    "name": "ipython",
    "version": 3
   },
   "file_extension": ".py",
   "mimetype": "text/x-python",
   "name": "python",
   "nbconvert_exporter": "python",
   "pygments_lexer": "ipython3",
   "version": "3.5.4"
  }
 },
 "nbformat": 4,
 "nbformat_minor": 2
}
